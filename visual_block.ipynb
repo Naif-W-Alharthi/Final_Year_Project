{
 "cells": [
  {
   "cell_type": "code",
   "execution_count": 1,
   "id": "12cd3da5",
   "metadata": {},
   "outputs": [],
   "source": [
    "import pandas as pd \n",
    "import matplotlib as plt"
   ]
  },
  {
   "cell_type": "code",
   "execution_count": 2,
   "id": "7719aa7c",
   "metadata": {},
   "outputs": [],
   "source": [
    "dataset= pd.read_csv(\"disseratction data - Sheet1 (1).csv\")\n"
   ]
  },
  {
   "cell_type": "code",
   "execution_count": 3,
   "id": "7a562cb3",
   "metadata": {},
   "outputs": [
    {
     "name": "stdout",
     "output_type": "stream",
     "text": [
      "<bound method NDFrame.head of      class  size   take   acc  acc2  acc3\n",
      "0        1    mid  1000   0.0   0.0  18.7\n",
      "1        0  small  1000   0.0   0.1   0.0\n",
      "2        1  small  1000   0.0  86.7  79.0\n",
      "3        5  small  1000   0.0   0.0  91.0\n",
      "4        8  small  1000   0.0   1.5  97.2\n",
      "..     ...    ...   ...   ...   ...   ...\n",
      "115      5   high  1000  98.6  87.9  94.7\n",
      "116      9  small   500  98.6  54.3  21.0\n",
      "117      3  small   500  98.7  67.3  84.7\n",
      "118      8    mid   100  99.1  62.9   9.9\n",
      "119      8  small   250  99.1   4.7  76.4\n",
      "\n",
      "[120 rows x 6 columns]>\n"
     ]
    }
   ],
   "source": [
    "print(dataset.head)"
   ]
  },
  {
   "cell_type": "code",
   "execution_count": 4,
   "id": "ae9b7ea1",
   "metadata": {},
   "outputs": [
    {
     "name": "stdout",
     "output_type": "stream",
     "text": [
      "Index(['class', 'size ', 'take', 'acc', 'acc2', 'acc3'], dtype='object')\n"
     ]
    }
   ],
   "source": [
    "print(dataset.columns)"
   ]
  },
  {
   "cell_type": "code",
   "execution_count": 5,
   "id": "dca575c4",
   "metadata": {},
   "outputs": [],
   "source": [
    "dataset[\"acc\"] = (dataset[\"acc2\"] + dataset[\"acc3\"] +dataset[\"acc\"])/3"
   ]
  },
  {
   "cell_type": "code",
   "execution_count": null,
   "id": "866ed0c4",
   "metadata": {},
   "outputs": [],
   "source": [
    "import matplotlib.pyplot as plt\n",
    "from matplotlib.patches import Patch\n",
    "\n",
    "colormatcher = {1000: \"Green\", 500: \"Red\", 250: \"Blue\", 100: \"Orange\"}\n",
    "\n",
    "for number in range(10):\n",
    "    dataset_colne = dataset.drop(dataset[dataset[\"class\"] != number].index)\n",
    "    dataset_colne = dataset_colne.sort_values(\"acc\")\n",
    "    if dataset_colne.empty:\n",
    "        continue  # Skip if no data for this class\n",
    "\n",
    "    dataset_colne[\"colors_\"] = dataset_colne[\"take\"].map(colormatcher)\n",
    "\n",
    "    ax = dataset_colne.plot.bar(\n",
    "        x=\"take\",\n",
    "        y=\"acc\",\n",
    "        title=f\"Barplot of {number}\",\n",
    "        color=dataset_colne[\"colors_\"],\n",
    "        legend=False  # We'll make our own legend\n",
    "    )\n",
    "    \n",
    "    # Create legend handles\n",
    "    handles = []\n",
    "    used_colors = dataset_colne[\"take\"].unique()\n",
    "    for take_value in used_colors:\n",
    "        if take_value in colormatcher:\n",
    "            handles.append(Patch(color=colormatcher[take_value], label=f\"{take_value}\"))\n",
    "\n",
    "    plt.legend(handles=handles, title=\"Take Values\", loc='best')\n",
    "    plt.tight_layout()\n",
    "    # plt.show()\n",
    "    plt.savefig(f\"barplot_class_{number}.png\")\n",
    "    plt.close()  # Close the plot to avoid overlapping plots in loop\n"
   ]
  },
  {
   "cell_type": "code",
   "execution_count": null,
   "id": "feed98e6",
   "metadata": {},
   "outputs": [],
   "source": [
    "import matplotlib.pyplot as plt\n",
    "from matplotlib.patches import Patch\n",
    "\n",
    "colormatcher = {1000: \"high\", 250: \"mid\", 100: \"small\"}\n",
    "\n",
    "for number in range(10):\n",
    "    dataset_colne = dataset.drop(dataset[dataset[\"class\"] != number].index)\n",
    "    dataset_colne = dataset_colne.sort_values(\"acc\")\n",
    "    if dataset_colne.empty:\n",
    "        continue  # Skip if no data for this class\n",
    "\n",
    "    dataset_colne[\"colors_\"] = dataset_colne[\"take\"].map(colormatcher)\n",
    "\n",
    "    ax = dataset_colne.plot.bar(\n",
    "        x=\"take\",\n",
    "        y=\"acc\",\n",
    "        title=f\"Barplot of {number}\",\n",
    "        color=dataset_colne[\"colors_\"],\n",
    "        legend=False  # We'll make our own legend\n",
    "    )\n",
    "    \n",
    "    # Create legend handles\n",
    "    handles = []\n",
    "    used_colors = dataset_colne[\"take\"].unique()\n",
    "    for take_value in used_colors:\n",
    "        if take_value in colormatcher:\n",
    "            handles.append(Patch(color=colormatcher[take_value], label=f\"{take_value}\"))\n",
    "\n",
    "    plt.legend(handles=handles, title=\"Take Values\", loc='best')\n",
    "    plt.tight_layout()\n",
    "    # plt.show()\n",
    "    plt.savefig(f\"barplot_class_{number}.png\")\n",
    "    plt.close()  # Close the plot to avoid overlapping plots in loop\n"
   ]
  }
 ],
 "metadata": {
  "kernelspec": {
   "display_name": "hand_tracking",
   "language": "python",
   "name": "python3"
  },
  "language_info": {
   "codemirror_mode": {
    "name": "ipython",
    "version": 3
   },
   "file_extension": ".py",
   "mimetype": "text/x-python",
   "name": "python",
   "nbconvert_exporter": "python",
   "pygments_lexer": "ipython3",
   "version": "3.9.21"
  }
 },
 "nbformat": 4,
 "nbformat_minor": 5
}
